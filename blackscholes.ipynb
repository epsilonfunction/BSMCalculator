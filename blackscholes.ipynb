{
 "cells": [
  {
   "cell_type": "code",
   "execution_count": 3,
   "metadata": {},
   "outputs": [],
   "source": [
    "import numpy as np\n",
    "# import pandas as pd\n",
    "# import yfinance\n",
    "\n",
    "from scipy.stats import norm"
   ]
  },
  {
   "cell_type": "markdown",
   "metadata": {},
   "source": [
    "A Demonstration of Black-Scholes Pricing Formulation.\n",
    "\n",
    "Only Requires the Following:\n",
    "    - Stock Price, S \n",
    "    - Strike Price, K \n",
    "    - Risk-free Rate (Interest Rate), r\n",
    "    - Time to Expiry (in Years), t\n",
    "    - Volatility, $\\sigma$\n",
    "\n"
   ]
  },
  {
   "cell_type": "markdown",
   "metadata": {},
   "source": [
    "Definitions:\n",
    "\n",
    "1) Brownian Motion at time $\\it{t}$ as $\\it{B_{\\it{t}}}$\n",
    "\n",
    "2) $\\it{B_{0}} := 0$ which is the standard Brownian Motion assumption\n",
    "\n",
    "3) $\\it{B_{t}} - \\it{B_{s}} := \\it{N}(0,t-s)$ for t > s, which is also a standard Brownian Motion assumption\n",
    "\n",
    "4) Derivative of $\\it{B_{\\it{t}}}$ is $d\\it{B_{\\it{t}}}$. The integral of $d\\it{B_{\\it{t}}}$ is $\\it{B_{\\it{t}}}$\n",
    "\n",
    "TODO: Fix this Lemma Part\n",
    "Ito's Lemma\n",
    "$$\n",
    "% \\begin{aligned}\n",
    "% \\f{\\it{B}}\n",
    "\n",
    "df(X_t, t) = \\frac{\\partial f}{\\partial t} dt + \\frac{\\partial f}{\\partial x} dX_t + \\frac{1}{2} \\frac{\\partial^2 f}{\\partial x^2} (dX_t)^2 \\\\\n",
    "= \\left(\\frac{\\partial f}{\\partial t} + \\mu(X_t, t) \\frac{\\partial f}{\\partial x} + \\frac{1}{2} \\sigma^2(X_t, t) \\frac{\\partial^2 f}{\\partial x^2}\\right) dt + \\sigma(X_t, t) \\frac{\\partial f}{\\partial x} dW_t\n",
    "\n",
    "\\\\\n",
    "\n",
    "\\\\\n",
    "\n",
    "\\\\\n",
    "\n",
    "f(X_t, t) - f(X_0, 0) = \\int_0^t \\frac{\\partial f}{\\partial t}(X_s, s) ds + \\int_0^t \\frac{\\partial f}{\\partial x}(X_s, s) dX_s + \\frac{1}{2} \\int_0^t \\frac{\\partial^2 f}{\\partial x^2}(X_s, s) d\\langle X \\rangle_s\n",
    "\n",
    "% f(\\it{B_{t}}) = f(\\it{B_{0}}) + \\int_{0}^{t} f'(B_{s}) d\\! x\n",
    "% \\end{aligned}\n",
    "$$\n",
    "\n"
   ]
  },
  {
   "cell_type": "markdown",
   "metadata": {},
   "source": [
    "Black Scholes Formula\n",
    "\n",
    "For some call option"
   ]
  },
  {
   "cell_type": "markdown",
   "metadata": {},
   "source": [
    "The closed form solution of a $\\bold{European}$ call option is as follows:\n",
    "\n",
    "For some current price $ S $, strike price $ X $, risk-free rate (annualized) $ r $, time to expiry in years $ t $, volatility $ \\sigma $,\n",
    "\n",
    "The European Call Price $ C $, and Put Price $ P $ can be priced at: \n",
    "\n",
    "$$\n",
    "\n",
    "h^\\pm = \\frac{\\ln\\left(\\frac{S \\cdot (1 + r)^t}{X}\\right) \\pm 0.5 \\cdot \\sigma^2 \\cdot t}{\\sigma \\cdot \\sqrt{t}}\n",
    "\n",
    "\\\\\n",
    "\n",
    "C = S \\cdot \\Phi(h^{+}) - \\frac{X}{(1 + r)^t} \\cdot \\Phi(h^{-})\n",
    "\n",
    "\\\\\n",
    "\n",
    "P = \\frac{X}{(1 + r)^t} \\cdot \\Phi(-h^{-}) - S \\cdot \\Phi(-h^{+})\n",
    "\n",
    "\\\\\n",
    "\n",
    "$$\n"
   ]
  },
  {
   "cell_type": "code",
   "execution_count": 4,
   "metadata": {},
   "outputs": [],
   "source": [
    "\n",
    "# Sample Values for SPY Option Price. 23 Jul\n",
    "S = 553.7800 # Trading Price of instrument\n",
    "K = 555.0000 # Exercise Price (Strike Price)\n",
    "r = 0.04225 # Risk-free interest rate (Annualized)\n",
    "t = 3/365 # Time to Expiry\n",
    "sigma = 0.1 # Volatility (Annualized)\n",
    "\n",
    "\n",
    "\n",
    "q = 0.01 # Dividend Yield (Annualized)\n",
    "C = 0 # Call Option Price\n",
    "P = 0 # Put Option Price"
   ]
  },
  {
   "cell_type": "code",
   "execution_count": 5,
   "metadata": {},
   "outputs": [],
   "source": [
    "# C = S*np.exp(-q*t)*norm.cdf(x=(np.log(S/X)+(r-q+0.5*sigma**2)*t)/(sigma*np.sqrt(t)))\n",
    "\n",
    "d1 = (np.log(S/K) + ((r-q) + 0.5*sigma**2)*t) / (sigma*np.sqrt(t))\n",
    "d2 = d1 - sigma*(np.sqrt(t))\n",
    "\n",
    "C = norm.cdf(d1)*np.exp(-q*t)*S - norm.cdf(d2)*np.exp(-r*t)*K\n",
    "P = norm.cdf(-d2)*np.exp(-r*t)*K - norm.cdf(-d1)*np.exp(-q*t)*S\n"
   ]
  },
  {
   "cell_type": "code",
   "execution_count": 6,
   "metadata": {},
   "outputs": [
    {
     "data": {
      "text/plain": [
       "(np.float64(-0.2089631620829448), np.float64(-0.2180291303611773))"
      ]
     },
     "execution_count": 6,
     "metadata": {},
     "output_type": "execute_result"
    }
   ],
   "source": [
    "d1,d2"
   ]
  },
  {
   "cell_type": "code",
   "execution_count": 7,
   "metadata": {},
   "outputs": [
    {
     "name": "stdout",
     "output_type": "stream",
     "text": [
      "d1: -0.2089631620829448; d2:-0.2180291303611773; \n",
      "     Call Option Price: 1.5137840421169244; Put Option Price: 2.5866023437375816\n"
     ]
    }
   ],
   "source": [
    "print(f\"d1: {d1}; d2:{d2}; \\n \\\n",
    "    Call Option Price: {C}; Put Option Price: {P}\")"
   ]
  },
  {
   "cell_type": "markdown",
   "metadata": {},
   "source": [
    "# Black-76 Model\n",
    "\n",
    "Priced with fair strike, $F$ instead of dividend yield, $q$.\n",
    "This is primarily because estimating dividend yield, is often difficult."
   ]
  },
  {
   "cell_type": "code",
   "execution_count": 8,
   "metadata": {},
   "outputs": [],
   "source": [
    "F = S*np.exp((r-q)*t) # Forward Price or the fair strike price\n",
    "\n",
    "d1_76 = (np.log(F/K) + 0.5*sigma**2*t) / (sigma*np.sqrt(t))\n",
    "d2_76 = d1_76 - sigma*(np.sqrt(t))\n",
    "\n",
    "C_76 = np.exp(-r * t) * (norm.cdf(d1_76) * F - norm.cdf(d2_76) * K)\n",
    "P_76 = np.exp(-r * t) * (norm.cdf(-d2_76) * K - norm.cdf(-d1_76) * F)\n",
    "\n",
    "# Supplementary notes: \n",
    "# norm.cdf(d1_76) * F ; Undiscounted Exposure to S \n",
    "# multiplying by exp(-r*t) gives the discounted exposure to S; this accounts for the time value of money\n",
    "\n",
    "# norm.cdf(d2_76); This is the risk-neutral probability of S > K at expiry"
   ]
  },
  {
   "cell_type": "code",
   "execution_count": 9,
   "metadata": {},
   "outputs": [
    {
     "name": "stdout",
     "output_type": "stream",
     "text": [
      "d1: -0.20896316208294774; d2:-0.21802913036118024; \n",
      "     Call Option Price: 1.5137840421169475; Put Option Price: 2.5866023437376455\n"
     ]
    }
   ],
   "source": [
    "print(f\"d1: {d1_76}; d2:{d2_76}; \\n \\\n",
    "    Call Option Price: {C_76}; Put Option Price: {P_76}\")"
   ]
  },
  {
   "cell_type": "markdown",
   "metadata": {},
   "source": [
    "# Implied Probability\n",
    "\n",
    "Going from Price of Call/Put -> Greeks/Parameters"
   ]
  },
  {
   "cell_type": "code",
   "execution_count": 10,
   "metadata": {},
   "outputs": [],
   "source": [
    "# P(K) is the price of a put option at strike K at time t.\n",
    "\n",
    "#Q(S < K) = np.exp(-r*t) * dP(K) / dK \n",
    "\n",
    "Q_S_K = norm.cdf(-d2) # Probability of S < K at expiry; using d2_76 also works\n",
    "Q_dS = norm.cdf(d2) / (K * sigma * np.sqrt(t))  # *dK for some small change in K. \n"
   ]
  },
  {
   "cell_type": "markdown",
   "metadata": {},
   "source": [
    "# Greeks\n"
   ]
  },
  {
   "cell_type": "markdown",
   "metadata": {},
   "source": [
    "## Greeks: Delta\n",
    "\n",
    "1. Delta, $\\triangle$, defined as $ \\frac{\\partial C}{\\partial S} $ <br>\n",
    "1.1. A proxy uses the forward price, $F$, \n",
    "<!-- $$\n",
    "\\triangle _{t} = \\exp(-r*t) \\frac{\\partial C}{\\partial F}\n",
    "$$ -->\n",
    "\n",
    "2. Delta is stable across expires for fixed, normalized log-moneyness\n",
    "3. Cash Delta = $F \\triangle$"
   ]
  },
  {
   "cell_type": "code",
   "execution_count": 11,
   "metadata": {},
   "outputs": [
    {
     "data": {
      "text/plain": [
       "(np.float64(0.4170936328729004), np.float64(-0.5825591671409971))"
      ]
     },
     "execution_count": 11,
     "metadata": {},
     "output_type": "execute_result"
    }
   ],
   "source": [
    "C_delta = np.exp(-r*t) * norm.cdf(d1)\n",
    "P_delta = -np.exp(-r*t) * norm.cdf(-d1)\n",
    "\n",
    "Cash_delta = F * C_delta # Cash delta is the amount of cash needed to hedge the option position.\n",
    "# Cash delta = F * P_delta # Cash delta is the amount of cash needed to hedge the option position.\n",
    "\n",
    "C_delta, P_delta"
   ]
  },
  {
   "cell_type": "code",
   "execution_count": 12,
   "metadata": {},
   "outputs": [],
   "source": [
    "# Show how delta is stable across expires\n",
    "# F_example = 100\n",
    "# sigma_example = 0.2\n",
    "# r_example = 0.05"
   ]
  },
  {
   "cell_type": "markdown",
   "metadata": {},
   "source": [
    "## Greeks: Gamma\n",
    "\n",
    "1. Gamma, $\\gamma$, defined as $ \\frac{\\partial^2 C}{\\partial S^2} $ <br>\n",
    "   1. A proxy uses the forward price, $F$,\n",
    "   $$ \n",
    "   \\Gamma _{t} = \\exp(-r*t) \\frac{\\phi (d_{1})}{F \\sigma \\sqrt{t}}\n",
    "   $$\n",
    "2. Cash Gamma, $\\Gamma _{cash,t} = \\Gamma _{t} F^{2}$\n",
    "   1. Cash gamma is proportional to derivative of option price wrt variance\n",
    "   $$\n",
    "   \\frac{1}{2}\\$ \\Gamma = \\frac{\\partial C}{\\partial [\\sigma^2 t]} \n",
    "   $$\n"
   ]
  },
  {
   "cell_type": "code",
   "execution_count": 13,
   "metadata": {},
   "outputs": [],
   "source": [
    "Gamma = np.exp(-r*t) * norm.pdf(d1) / (F * sigma * np.sqrt(t)) # Gamma is the rate of change of delta with respect to the underlying asset price.\n",
    "Cash_gamma = F ** 2 * Gamma \n",
    "\n"
   ]
  },
  {
   "cell_type": "markdown",
   "metadata": {},
   "source": [
    "## Greeks: Theta\n",
    "\n",
    "1. Theta, $\\theta$, defined as $ \\frac{\\partial C}{\\partial t} $ <br>\n",
    "2. 2 Primary Components: Interest Rate & Volatility\n",
    "   1. Formula : $ \\Omega = r\\it{X}e^{-rt} + e^{-rt}\\frac{\\partial \\it{X}}{\\partial t}$\n",
    "   2. First term is $\\Omega _{r}$\n",
    "   3. Second term is $\\Omega _{t}$\n",
    "   4. $ \\it{X} = e^{rt} C $; which is the undiscounted price of option\n",
    "3. $ 0.5 \\$\\Gamma \\sigma^{2} + \\Omega _{t} = 0 $ "
   ]
  },
  {
   "cell_type": "code",
   "execution_count": 14,
   "metadata": {},
   "outputs": [
    {
     "data": {
      "text/plain": [
       "np.float64(-117.68877565001432)"
      ]
     },
     "execution_count": 14,
     "metadata": {},
     "output_type": "execute_result"
    }
   ],
   "source": [
    "Xt = np.exp(r * t) * C\n",
    "\n",
    "Theta_r = np.exp(-r * t) * Xt \n",
    "# Theta_sigma = np.exp(-r * t) * delX/ delT # Need to approximate delX/delT, so this method is not used for now.\n",
    "Theta_sigma = -0.5 * Cash_gamma * sigma**2\n",
    "\n",
    "Theta = Theta_r + Theta_sigma\n",
    "\n",
    "Theta"
   ]
  }
 ],
 "metadata": {
  "kernelspec": {
   "display_name": ".venv",
   "language": "python",
   "name": "python3"
  },
  "language_info": {
   "codemirror_mode": {
    "name": "ipython",
    "version": 3
   },
   "file_extension": ".py",
   "mimetype": "text/x-python",
   "name": "python",
   "nbconvert_exporter": "python",
   "pygments_lexer": "ipython3",
   "version": "3.10.12"
  }
 },
 "nbformat": 4,
 "nbformat_minor": 2
}
